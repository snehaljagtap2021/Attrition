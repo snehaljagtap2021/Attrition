{
 "cells": [
  {
   "cell_type": "code",
   "execution_count": 1,
   "metadata": {},
   "outputs": [],
   "source": [
    "import pandas as pd\n",
    "import numpy as np\n",
    "import matplotlib.pyplot as plt"
   ]
  },
  {
   "cell_type": "code",
   "execution_count": 2,
   "metadata": {},
   "outputs": [],
   "source": [
    "path = 'C:\\\\Users\\\\User\\\\Desktop\\\\DATA SCIENCE\\\\Abhinav R\\\\datasets\\\\Attrition_EDA_TOH.csv'\n",
    "data = pd.read_csv(path, index_col=0)"
   ]
  },
  {
   "cell_type": "code",
   "execution_count": 3,
   "metadata": {},
   "outputs": [
    {
     "data": {
      "text/plain": [
       "1237"
      ]
     },
     "execution_count": 3,
     "metadata": {},
     "output_type": "execute_result"
    }
   ],
   "source": [
    "len(data.index)"
   ]
  },
  {
   "cell_type": "code",
   "execution_count": 4,
   "metadata": {
    "scrolled": true
   },
   "outputs": [
    {
     "data": {
      "text/html": [
       "<div>\n",
       "<style scoped>\n",
       "    .dataframe tbody tr th:only-of-type {\n",
       "        vertical-align: middle;\n",
       "    }\n",
       "\n",
       "    .dataframe tbody tr th {\n",
       "        vertical-align: top;\n",
       "    }\n",
       "\n",
       "    .dataframe thead th {\n",
       "        text-align: right;\n",
       "    }\n",
       "</style>\n",
       "<table border=\"1\" class=\"dataframe\">\n",
       "  <thead>\n",
       "    <tr style=\"text-align: right;\">\n",
       "      <th></th>\n",
       "      <th>Attrition</th>\n",
       "      <th>Age</th>\n",
       "      <th>DailyRate</th>\n",
       "      <th>DistanceFromHome</th>\n",
       "      <th>EnvironmentSatisfaction</th>\n",
       "      <th>JobInvolvement</th>\n",
       "      <th>JobLevel</th>\n",
       "      <th>JobSatisfaction</th>\n",
       "      <th>MonthlyIncome</th>\n",
       "      <th>NumCompaniesWorked</th>\n",
       "      <th>...</th>\n",
       "      <th>JobRole_Laboratory Technician</th>\n",
       "      <th>JobRole_Manager</th>\n",
       "      <th>JobRole_Manufacturing Director</th>\n",
       "      <th>JobRole_Research Director</th>\n",
       "      <th>JobRole_Research Scientist</th>\n",
       "      <th>JobRole_Sales Executive</th>\n",
       "      <th>JobRole_Sales Representative</th>\n",
       "      <th>OverTime_Yes</th>\n",
       "      <th>MaritalStatus_Married</th>\n",
       "      <th>MaritalStatus_Single</th>\n",
       "    </tr>\n",
       "  </thead>\n",
       "  <tbody>\n",
       "    <tr>\n",
       "      <th>0</th>\n",
       "      <td>1</td>\n",
       "      <td>41</td>\n",
       "      <td>1102</td>\n",
       "      <td>1</td>\n",
       "      <td>2</td>\n",
       "      <td>3</td>\n",
       "      <td>2</td>\n",
       "      <td>4</td>\n",
       "      <td>5993</td>\n",
       "      <td>8</td>\n",
       "      <td>...</td>\n",
       "      <td>0</td>\n",
       "      <td>0</td>\n",
       "      <td>0</td>\n",
       "      <td>0</td>\n",
       "      <td>0</td>\n",
       "      <td>1</td>\n",
       "      <td>0</td>\n",
       "      <td>1</td>\n",
       "      <td>0</td>\n",
       "      <td>1</td>\n",
       "    </tr>\n",
       "    <tr>\n",
       "      <th>1</th>\n",
       "      <td>0</td>\n",
       "      <td>49</td>\n",
       "      <td>279</td>\n",
       "      <td>8</td>\n",
       "      <td>3</td>\n",
       "      <td>2</td>\n",
       "      <td>2</td>\n",
       "      <td>2</td>\n",
       "      <td>5130</td>\n",
       "      <td>1</td>\n",
       "      <td>...</td>\n",
       "      <td>0</td>\n",
       "      <td>0</td>\n",
       "      <td>0</td>\n",
       "      <td>0</td>\n",
       "      <td>1</td>\n",
       "      <td>0</td>\n",
       "      <td>0</td>\n",
       "      <td>0</td>\n",
       "      <td>1</td>\n",
       "      <td>0</td>\n",
       "    </tr>\n",
       "    <tr>\n",
       "      <th>2</th>\n",
       "      <td>1</td>\n",
       "      <td>37</td>\n",
       "      <td>1373</td>\n",
       "      <td>2</td>\n",
       "      <td>4</td>\n",
       "      <td>2</td>\n",
       "      <td>1</td>\n",
       "      <td>3</td>\n",
       "      <td>2090</td>\n",
       "      <td>6</td>\n",
       "      <td>...</td>\n",
       "      <td>1</td>\n",
       "      <td>0</td>\n",
       "      <td>0</td>\n",
       "      <td>0</td>\n",
       "      <td>0</td>\n",
       "      <td>0</td>\n",
       "      <td>0</td>\n",
       "      <td>1</td>\n",
       "      <td>0</td>\n",
       "      <td>1</td>\n",
       "    </tr>\n",
       "    <tr>\n",
       "      <th>3</th>\n",
       "      <td>0</td>\n",
       "      <td>33</td>\n",
       "      <td>1392</td>\n",
       "      <td>3</td>\n",
       "      <td>4</td>\n",
       "      <td>3</td>\n",
       "      <td>1</td>\n",
       "      <td>3</td>\n",
       "      <td>2909</td>\n",
       "      <td>1</td>\n",
       "      <td>...</td>\n",
       "      <td>0</td>\n",
       "      <td>0</td>\n",
       "      <td>0</td>\n",
       "      <td>0</td>\n",
       "      <td>1</td>\n",
       "      <td>0</td>\n",
       "      <td>0</td>\n",
       "      <td>1</td>\n",
       "      <td>1</td>\n",
       "      <td>0</td>\n",
       "    </tr>\n",
       "    <tr>\n",
       "      <th>4</th>\n",
       "      <td>0</td>\n",
       "      <td>27</td>\n",
       "      <td>591</td>\n",
       "      <td>2</td>\n",
       "      <td>1</td>\n",
       "      <td>3</td>\n",
       "      <td>1</td>\n",
       "      <td>2</td>\n",
       "      <td>3468</td>\n",
       "      <td>9</td>\n",
       "      <td>...</td>\n",
       "      <td>1</td>\n",
       "      <td>0</td>\n",
       "      <td>0</td>\n",
       "      <td>0</td>\n",
       "      <td>0</td>\n",
       "      <td>0</td>\n",
       "      <td>0</td>\n",
       "      <td>0</td>\n",
       "      <td>1</td>\n",
       "      <td>0</td>\n",
       "    </tr>\n",
       "  </tbody>\n",
       "</table>\n",
       "<p>5 rows × 38 columns</p>\n",
       "</div>"
      ],
      "text/plain": [
       "   Attrition  Age  DailyRate  DistanceFromHome  EnvironmentSatisfaction  \\\n",
       "0          1   41       1102                 1                        2   \n",
       "1          0   49        279                 8                        3   \n",
       "2          1   37       1373                 2                        4   \n",
       "3          0   33       1392                 3                        4   \n",
       "4          0   27        591                 2                        1   \n",
       "\n",
       "   JobInvolvement  JobLevel  JobSatisfaction  MonthlyIncome  \\\n",
       "0               3         2                4           5993   \n",
       "1               2         2                2           5130   \n",
       "2               2         1                3           2090   \n",
       "3               3         1                3           2909   \n",
       "4               3         1                2           3468   \n",
       "\n",
       "   NumCompaniesWorked  ...  JobRole_Laboratory Technician  JobRole_Manager  \\\n",
       "0                   8  ...                              0                0   \n",
       "1                   1  ...                              0                0   \n",
       "2                   6  ...                              1                0   \n",
       "3                   1  ...                              0                0   \n",
       "4                   9  ...                              1                0   \n",
       "\n",
       "   JobRole_Manufacturing Director  JobRole_Research Director  \\\n",
       "0                               0                          0   \n",
       "1                               0                          0   \n",
       "2                               0                          0   \n",
       "3                               0                          0   \n",
       "4                               0                          0   \n",
       "\n",
       "   JobRole_Research Scientist  JobRole_Sales Executive  \\\n",
       "0                           0                        1   \n",
       "1                           1                        0   \n",
       "2                           0                        0   \n",
       "3                           1                        0   \n",
       "4                           0                        0   \n",
       "\n",
       "   JobRole_Sales Representative  OverTime_Yes  MaritalStatus_Married  \\\n",
       "0                             0             1                      0   \n",
       "1                             0             0                      1   \n",
       "2                             0             1                      0   \n",
       "3                             0             1                      1   \n",
       "4                             0             0                      1   \n",
       "\n",
       "   MaritalStatus_Single  \n",
       "0                     1  \n",
       "1                     0  \n",
       "2                     1  \n",
       "3                     0  \n",
       "4                     0  \n",
       "\n",
       "[5 rows x 38 columns]"
      ]
     },
     "execution_count": 4,
     "metadata": {},
     "output_type": "execute_result"
    }
   ],
   "source": [
    "data.head()"
   ]
  },
  {
   "cell_type": "code",
   "execution_count": 5,
   "metadata": {},
   "outputs": [
    {
     "data": {
      "text/plain": [
       "38"
      ]
     },
     "execution_count": 5,
     "metadata": {},
     "output_type": "execute_result"
    }
   ],
   "source": [
    "len(data.columns)"
   ]
  },
  {
   "cell_type": "code",
   "execution_count": 6,
   "metadata": {},
   "outputs": [
    {
     "data": {
      "text/plain": [
       "Attrition                            int64\n",
       "Age                                  int64\n",
       "DailyRate                            int64\n",
       "DistanceFromHome                     int64\n",
       "EnvironmentSatisfaction              int64\n",
       "JobInvolvement                       int64\n",
       "JobLevel                             int64\n",
       "JobSatisfaction                      int64\n",
       "MonthlyIncome                        int64\n",
       "NumCompaniesWorked                   int64\n",
       "RelationshipSatisfaction             int64\n",
       "StockOptionLevel                     int64\n",
       "TotalWorkingYears                    int64\n",
       "TrainingTimesLastYear                int64\n",
       "WorkLifeBalance                      int64\n",
       "YearsAtCompany                       int64\n",
       "YearsInCurrentRole                   int64\n",
       "YearsWithCurrManager                 int64\n",
       "Department_Research & Development    int64\n",
       "Department_Sales                     int64\n",
       "EducationField_Life Sciences         int64\n",
       "EducationField_Marketing             int64\n",
       "EducationField_Medical               int64\n",
       "EducationField_Other                 int64\n",
       "EducationField_Technical Degree      int64\n",
       "BusinessTravel_Travel_Frequently     int64\n",
       "BusinessTravel_Travel_Rarely         int64\n",
       "JobRole_Human Resources              int64\n",
       "JobRole_Laboratory Technician        int64\n",
       "JobRole_Manager                      int64\n",
       "JobRole_Manufacturing Director       int64\n",
       "JobRole_Research Director            int64\n",
       "JobRole_Research Scientist           int64\n",
       "JobRole_Sales Executive              int64\n",
       "JobRole_Sales Representative         int64\n",
       "OverTime_Yes                         int64\n",
       "MaritalStatus_Married                int64\n",
       "MaritalStatus_Single                 int64\n",
       "dtype: object"
      ]
     },
     "execution_count": 6,
     "metadata": {},
     "output_type": "execute_result"
    }
   ],
   "source": [
    "data.dtypes"
   ]
  },
  {
   "cell_type": "code",
   "execution_count": 7,
   "metadata": {
    "scrolled": true
   },
   "outputs": [
    {
     "name": "stdout",
     "output_type": "stream",
     "text": [
      "(1237, 37)\n",
      "(1237,)\n"
     ]
    }
   ],
   "source": [
    "X = data.drop('Attrition',axis=1).values\n",
    "y = data['Attrition']\n",
    "\n",
    "print(X.shape)\n",
    "print(y.shape)"
   ]
  },
  {
   "cell_type": "code",
   "execution_count": 8,
   "metadata": {},
   "outputs": [
    {
     "name": "stdout",
     "output_type": "stream",
     "text": [
      "[[ 0.69476048  0.73771557 -1.02519321 ...  1.60795126 -0.90209921\n",
      "   1.41507144]\n",
      " [ 1.647817   -1.30791857 -0.15351725 ... -0.6219094   1.10852552\n",
      "  -0.7066781 ]\n",
      " [ 0.21823222  1.41130834 -0.90066807 ...  1.60795126 -0.90209921\n",
      "   1.41507144]\n",
      " ...\n",
      " [-0.97308842 -1.61613076 -0.6516178  ...  1.60795126  1.10852552\n",
      "  -0.7066781 ]\n",
      " [ 1.647817    0.54135458 -0.90066807 ... -0.6219094   1.10852552\n",
      "  -0.7066781 ]\n",
      " [-0.13916397 -0.44045039 -0.15351725 ... -0.6219094   1.10852552\n",
      "  -0.7066781 ]]\n"
     ]
    },
    {
     "name": "stderr",
     "output_type": "stream",
     "text": [
      "C:\\Users\\User\\Anaconda3\\lib\\site-packages\\sklearn\\utils\\validation.py:595: DataConversionWarning: Data with input dtype int64 was converted to float64 by StandardScaler.\n",
      "  warnings.warn(msg, DataConversionWarning)\n",
      "C:\\Users\\User\\Anaconda3\\lib\\site-packages\\sklearn\\utils\\validation.py:595: DataConversionWarning: Data with input dtype int64 was converted to float64 by StandardScaler.\n",
      "  warnings.warn(msg, DataConversionWarning)\n"
     ]
    }
   ],
   "source": [
    "from sklearn.preprocessing import StandardScaler\n",
    "scl = StandardScaler()\n",
    "X = scl.fit_transform(X)\n",
    "print(X)"
   ]
  },
  {
   "cell_type": "code",
   "execution_count": 9,
   "metadata": {},
   "outputs": [],
   "source": [
    "from sklearn.model_selection import train_test_split"
   ]
  },
  {
   "cell_type": "code",
   "execution_count": 10,
   "metadata": {},
   "outputs": [
    {
     "name": "stdout",
     "output_type": "stream",
     "text": [
      "(865, 37)\n",
      "(372, 37)\n",
      "(865,)\n",
      "(372,)\n"
     ]
    }
   ],
   "source": [
    "X_train,X_test,y_train,y_test = train_test_split(X,y,test_size = 0.3, random_state = 10)\n",
    "\n",
    "print(X_train.shape)\n",
    "print(X_test.shape)\n",
    "print(y_train.shape)\n",
    "print(y_test.shape)"
   ]
  },
  {
   "cell_type": "code",
   "execution_count": 11,
   "metadata": {},
   "outputs": [],
   "source": [
    "from sklearn.model_selection import KFold\n",
    "from sklearn.model_selection import cross_val_score\n",
    "from sklearn.linear_model import LogisticRegression\n",
    "from sklearn.metrics import confusion_matrix, accuracy_score, classification_report"
   ]
  },
  {
   "cell_type": "markdown",
   "metadata": {},
   "source": [
    "# Logistic Regression"
   ]
  },
  {
   "cell_type": "code",
   "execution_count": 12,
   "metadata": {},
   "outputs": [
    {
     "name": "stderr",
     "output_type": "stream",
     "text": [
      "C:\\Users\\User\\Anaconda3\\lib\\site-packages\\sklearn\\linear_model\\logistic.py:433: FutureWarning: Default solver will be changed to 'lbfgs' in 0.22. Specify a solver to silence this warning.\n",
      "  FutureWarning)\n"
     ]
    },
    {
     "data": {
      "text/plain": [
       "LogisticRegression(C=1.0, class_weight=None, dual=False, fit_intercept=True,\n",
       "          intercept_scaling=1, max_iter=100, multi_class='warn',\n",
       "          n_jobs=None, penalty='l2', random_state=None, solver='warn',\n",
       "          tol=0.0001, verbose=0, warm_start=False)"
      ]
     },
     "execution_count": 12,
     "metadata": {},
     "output_type": "execute_result"
    }
   ],
   "source": [
    "logreg = LogisticRegression()\n",
    "\n",
    "logreg.fit(X_train,y_train)"
   ]
  },
  {
   "cell_type": "code",
   "execution_count": 13,
   "metadata": {},
   "outputs": [],
   "source": [
    "fold = KFold(n_splits=10, shuffle=True, random_state=10)"
   ]
  },
  {
   "cell_type": "code",
   "execution_count": 14,
   "metadata": {},
   "outputs": [
    {
     "name": "stdout",
     "output_type": "stream",
     "text": [
      "[0.86206897 0.86206897 0.96551724 0.89655172 0.82758621 0.88372093\n",
      " 0.88372093 0.88372093 0.84883721 0.87209302]\n",
      "0.878588612670409\n"
     ]
    },
    {
     "name": "stderr",
     "output_type": "stream",
     "text": [
      "C:\\Users\\User\\Anaconda3\\lib\\site-packages\\sklearn\\linear_model\\logistic.py:433: FutureWarning: Default solver will be changed to 'lbfgs' in 0.22. Specify a solver to silence this warning.\n",
      "  FutureWarning)\n",
      "C:\\Users\\User\\Anaconda3\\lib\\site-packages\\sklearn\\linear_model\\logistic.py:433: FutureWarning: Default solver will be changed to 'lbfgs' in 0.22. Specify a solver to silence this warning.\n",
      "  FutureWarning)\n",
      "C:\\Users\\User\\Anaconda3\\lib\\site-packages\\sklearn\\linear_model\\logistic.py:433: FutureWarning: Default solver will be changed to 'lbfgs' in 0.22. Specify a solver to silence this warning.\n",
      "  FutureWarning)\n",
      "C:\\Users\\User\\Anaconda3\\lib\\site-packages\\sklearn\\linear_model\\logistic.py:433: FutureWarning: Default solver will be changed to 'lbfgs' in 0.22. Specify a solver to silence this warning.\n",
      "  FutureWarning)\n",
      "C:\\Users\\User\\Anaconda3\\lib\\site-packages\\sklearn\\linear_model\\logistic.py:433: FutureWarning: Default solver will be changed to 'lbfgs' in 0.22. Specify a solver to silence this warning.\n",
      "  FutureWarning)\n",
      "C:\\Users\\User\\Anaconda3\\lib\\site-packages\\sklearn\\linear_model\\logistic.py:433: FutureWarning: Default solver will be changed to 'lbfgs' in 0.22. Specify a solver to silence this warning.\n",
      "  FutureWarning)\n",
      "C:\\Users\\User\\Anaconda3\\lib\\site-packages\\sklearn\\linear_model\\logistic.py:433: FutureWarning: Default solver will be changed to 'lbfgs' in 0.22. Specify a solver to silence this warning.\n",
      "  FutureWarning)\n",
      "C:\\Users\\User\\Anaconda3\\lib\\site-packages\\sklearn\\linear_model\\logistic.py:433: FutureWarning: Default solver will be changed to 'lbfgs' in 0.22. Specify a solver to silence this warning.\n",
      "  FutureWarning)\n",
      "C:\\Users\\User\\Anaconda3\\lib\\site-packages\\sklearn\\linear_model\\logistic.py:433: FutureWarning: Default solver will be changed to 'lbfgs' in 0.22. Specify a solver to silence this warning.\n",
      "  FutureWarning)\n",
      "C:\\Users\\User\\Anaconda3\\lib\\site-packages\\sklearn\\linear_model\\logistic.py:433: FutureWarning: Default solver will be changed to 'lbfgs' in 0.22. Specify a solver to silence this warning.\n",
      "  FutureWarning)\n"
     ]
    }
   ],
   "source": [
    "accuracies = cross_val_score(estimator=logreg,X=X_train,y=y_train,cv=fold)\n",
    "print(accuracies)\n",
    "\n",
    "print(np.mean(accuracies))"
   ]
  },
  {
   "cell_type": "code",
   "execution_count": 15,
   "metadata": {},
   "outputs": [
    {
     "name": "stdout",
     "output_type": "stream",
     "text": [
      "0.8901734104046243\n",
      "              precision    recall  f1-score   support\n",
      "\n",
      "           0       0.91      0.97      0.94       716\n",
      "           1       0.76      0.52      0.62       149\n",
      "\n",
      "   micro avg       0.89      0.89      0.89       865\n",
      "   macro avg       0.84      0.74      0.78       865\n",
      "weighted avg       0.88      0.89      0.88       865\n",
      "\n",
      "[[692  24]\n",
      " [ 71  78]]\n"
     ]
    }
   ],
   "source": [
    "y_train_pred = logreg.predict(X_train)\n",
    "y_train_pred.shape\n",
    "\n",
    "print(accuracy_score(y_train, y_train_pred, normalize=True, sample_weight=None))\n",
    "\n",
    "print(classification_report(y_train, y_train_pred))\n",
    "\n",
    "print(confusion_matrix(y_train, y_train_pred))"
   ]
  },
  {
   "cell_type": "code",
   "execution_count": 16,
   "metadata": {},
   "outputs": [
    {
     "name": "stdout",
     "output_type": "stream",
     "text": [
      "0.8467741935483871\n",
      "              precision    recall  f1-score   support\n",
      "\n",
      "           0       0.88      0.94      0.91       299\n",
      "           1       0.66      0.45      0.54        73\n",
      "\n",
      "   micro avg       0.85      0.85      0.85       372\n",
      "   macro avg       0.77      0.70      0.72       372\n",
      "weighted avg       0.83      0.85      0.84       372\n",
      "\n",
      "[[282  17]\n",
      " [ 40  33]]\n"
     ]
    }
   ],
   "source": [
    "\n",
    "\n",
    "y_test_pred = logreg.predict(X_test)\n",
    "y_test_pred.shape\n",
    "\n",
    "print(accuracy_score(y_test, y_test_pred, normalize=True, sample_weight=None))\n",
    "\n",
    "print(classification_report(y_test, y_test_pred))\n",
    "\n",
    "print(confusion_matrix(y_test, y_test_pred))"
   ]
  },
  {
   "cell_type": "markdown",
   "metadata": {},
   "source": [
    "# KNN"
   ]
  },
  {
   "cell_type": "code",
   "execution_count": 17,
   "metadata": {},
   "outputs": [],
   "source": [
    "from sklearn.neighbors import KNeighborsClassifier\n",
    "from sklearn import metrics \n"
   ]
  },
  {
   "cell_type": "code",
   "execution_count": 18,
   "metadata": {},
   "outputs": [
    {
     "data": {
      "text/plain": [
       "KNeighborsClassifier(algorithm='auto', leaf_size=30, metric='minkowski',\n",
       "           metric_params=None, n_jobs=None, n_neighbors=4, p=2,\n",
       "           weights='uniform')"
      ]
     },
     "execution_count": 18,
     "metadata": {},
     "output_type": "execute_result"
    }
   ],
   "source": [
    "knn=KNeighborsClassifier(n_neighbors=4)\n",
    "knn.fit(X_train,y_train)"
   ]
  },
  {
   "cell_type": "code",
   "execution_count": 19,
   "metadata": {},
   "outputs": [
    {
     "name": "stdout",
     "output_type": "stream",
     "text": [
      "0.8118279569892473\n",
      "Test accuracy: \n",
      " 0.8118279569892473\n"
     ]
    }
   ],
   "source": [
    "y_test_pred = knn.predict(X_test)\n",
    "print(metrics.accuracy_score(y_test,y_test_pred))\n",
    "print(\"Test accuracy: \\n\",knn.score(X_test,y_test))"
   ]
  },
  {
   "cell_type": "code",
   "execution_count": 20,
   "metadata": {},
   "outputs": [
    {
     "name": "stdout",
     "output_type": "stream",
     "text": [
      "0.8508670520231214\n",
      "Train accuracy :\n",
      " 0.8508670520231214\n"
     ]
    }
   ],
   "source": [
    "y_train_pred=knn.predict(X_train)\n",
    "print(metrics.accuracy_score(y_train,y_train_pred))\n",
    "print(\"Train accuracy :\\n\",knn.score(X_train,y_train))"
   ]
  },
  {
   "cell_type": "code",
   "execution_count": 21,
   "metadata": {},
   "outputs": [
    {
     "name": "stdout",
     "output_type": "stream",
     "text": [
      "[0.82758621 0.85416667 0.84027778 0.83333333 0.82638889 0.82638889]\n"
     ]
    },
    {
     "data": {
      "text/plain": [
       "0.8346902937420179"
      ]
     },
     "execution_count": 21,
     "metadata": {},
     "output_type": "execute_result"
    }
   ],
   "source": [
    "#perform k-fold cross validation with n_splits=6\n",
    "\n",
    "folds = KFold(n_splits=6,shuffle=True,random_state=10)\n",
    "\n",
    "scores = cross_val_score(estimator=knn,X=X_train,y=y_train,cv=folds)\n",
    "\n",
    "print(scores)\n",
    "np.mean(scores)"
   ]
  },
  {
   "cell_type": "code",
   "execution_count": 22,
   "metadata": {},
   "outputs": [],
   "source": [
    "neighbors = np.arange(1, 9)\n",
    "\n",
    "#empty arrays to hold train & test accuracies\n",
    "train_accuracy = np.empty(len(neighbors))\n",
    "test_accuracy = np.empty(len(neighbors))"
   ]
  },
  {
   "cell_type": "code",
   "execution_count": 23,
   "metadata": {},
   "outputs": [
    {
     "data": {
      "image/png": "[encoded data removed]",
      "text/plain": [
       "<Figure size 432x288 with 1 Axes>"
      ]
     },
     "metadata": {
      "needs_background": "light"
     },
     "output_type": "display_data"
    }
   ],
   "source": [
    "for i, k in enumerate(neighbors):\n",
    "    knn = KNeighborsClassifier(n_neighbors=k)\n",
    "    knn.fit(X_train,y_train) \n",
    "    train_accuracy[i] = knn.score(X_train,y_train)\n",
    "    test_accuracy[i] = knn.score(X_test, y_test)\n",
    "    \n",
    "plt.title('kNN: Varying Number of Neighbors')\n",
    "plt.plot(neighbors, test_accuracy, label = 'Testing Accuracy')\n",
    "plt.plot(neighbors, train_accuracy, label = 'Training Accuracy')\n",
    "plt.legend()\n",
    "plt.xlabel('Number of Neighbors')\n",
    "plt.ylabel('Accuracy')\n",
    "plt.show()\n"
   ]
  },
  {
   "cell_type": "code",
   "execution_count": 24,
   "metadata": {},
   "outputs": [
    {
     "name": "stdout",
     "output_type": "stream",
     "text": [
      "0.8508670520231214\n",
      "0.8323699421965317\n",
      "0.8118279569892473\n"
     ]
    }
   ],
   "source": [
    "knn = KNeighborsClassifier(n_neighbors=4)\n",
    "knn.fit(X_train,y_train)\n",
    "training_score = knn.score(X_train,y_train)\n",
    "test_score = knn.score(X_test,y_test)\n",
    "\n",
    "folds = KFold(n_splits=5,shuffle=True,random_state=10)\n",
    "scores = cross_val_score(estimator=knn,X=X_train,y=y_train,cv=folds)\n",
    "\n",
    "\n",
    "print(training_score)\n",
    "print(np.mean(scores))\n",
    "print(test_score)"
   ]
  },
  {
   "cell_type": "markdown",
   "metadata": {},
   "source": [
    "# Naive Bayes"
   ]
  },
  {
   "cell_type": "code",
   "execution_count": 25,
   "metadata": {},
   "outputs": [],
   "source": [
    "\n",
    "from sklearn.naive_bayes import GaussianNB\n",
    "\n",
    "gnb = GaussianNB()\n",
    "\n",
    "gnb.fit(X_train,y_train)\n",
    "\n",
    "y_pred = gnb.predict(X_test)"
   ]
  },
  {
   "cell_type": "code",
   "execution_count": 26,
   "metadata": {},
   "outputs": [
    {
     "name": "stdout",
     "output_type": "stream",
     "text": [
      "Accuracy :  0.3010752688172043\n",
      "Precision :  0.21406727828746178\n",
      "Recall :  0.958904109589041\n",
      "f1_score :  0.35\n",
      "              precision    recall  f1-score   support\n",
      "\n",
      "           0       0.93      0.14      0.24       299\n",
      "           1       0.21      0.96      0.35        73\n",
      "\n",
      "   micro avg       0.30      0.30      0.30       372\n",
      "   macro avg       0.57      0.55      0.30       372\n",
      "weighted avg       0.79      0.30      0.26       372\n",
      "\n"
     ]
    }
   ],
   "source": [
    "# calculate different scores\n",
    "\n",
    "from sklearn import metrics\n",
    "print(\"Accuracy : \",metrics.accuracy_score(y_test,y_pred))\n",
    "print(\"Precision : \",metrics.precision_score(y_test,y_pred))\n",
    "print(\"Recall : \",metrics.recall_score(y_test,y_pred))\n",
    "print(\"f1_score : \",metrics.f1_score(y_test,y_pred))\n",
    "\n",
    "#Write the code to print classification_report\n",
    "\n",
    "from sklearn.metrics import classification_report\n",
    "\n",
    "print(classification_report(y_test,y_pred))"
   ]
  },
  {
   "cell_type": "code",
   "execution_count": 27,
   "metadata": {},
   "outputs": [
    {
     "name": "stdout",
     "output_type": "stream",
     "text": [
      "Accuracy :  0.8413978494623656\n",
      "Precision :  0.6166666666666667\n",
      "Recall :  0.5068493150684932\n",
      "f1_score :  0.5563909774436091\n",
      "              precision    recall  f1-score   support\n",
      "\n",
      "           0       0.88      0.92      0.90       299\n",
      "           1       0.62      0.51      0.56        73\n",
      "\n",
      "   micro avg       0.84      0.84      0.84       372\n",
      "   macro avg       0.75      0.71      0.73       372\n",
      "weighted avg       0.83      0.84      0.84       372\n",
      "\n"
     ]
    }
   ],
   "source": [
    "\n",
    "from sklearn.naive_bayes import BernoulliNB\n",
    "\n",
    "\n",
    "bnb = BernoulliNB()\n",
    "\n",
    "\n",
    "bnb.fit(X_train,y_train)\n",
    "\n",
    "\n",
    "Y_pred_bnb = bnb.predict(X_test)\n",
    "\n",
    "\n",
    "\n",
    "from sklearn import metrics\n",
    "print(\"Accuracy : \",metrics.accuracy_score(y_test,Y_pred_bnb))\n",
    "print(\"Precision : \",metrics.precision_score(y_test,Y_pred_bnb))\n",
    "print(\"Recall : \",metrics.recall_score(y_test,Y_pred_bnb))\n",
    "print(\"f1_score : \",metrics.f1_score(y_test,Y_pred_bnb))\n",
    "\n",
    "\n",
    "\n",
    "from sklearn.metrics import classification_report\n",
    "\n",
    "print(classification_report(y_test,Y_pred_bnb))"
   ]
  },
  {
   "cell_type": "markdown",
   "metadata": {},
   "source": [
    "# Trees"
   ]
  },
  {
   "cell_type": "markdown",
   "metadata": {},
   "source": [
    "# Decision trees"
   ]
  },
  {
   "cell_type": "code",
   "execution_count": 29,
   "metadata": {},
   "outputs": [],
   "source": [
    "from sklearn.tree import DecisionTreeClassifier"
   ]
  },
  {
   "cell_type": "code",
   "execution_count": 30,
   "metadata": {},
   "outputs": [
    {
     "name": "stdout",
     "output_type": "stream",
     "text": [
      "Accuracy of Decision Tree Classifier on training set: 0.8682080924855491\n",
      "Accuracy of Decision Tree Classifier on test set: 0.8118279569892473\n"
     ]
    }
   ],
   "source": [
    "# settings for decision tree\n",
    "# max_depth: The max depth of the tree\n",
    "# min_samples_leaf: The minimum number of samples required to be at a leaf node\n",
    "# max_leaf_nodes: Grow trees upto ``max_leaf_nodes`` should be even\n",
    "# max_depth = 3, min_samples_leaf = 8, max_leaf_nodes =  10\n",
    "\n",
    "tree_mod1 = DecisionTreeClassifier(max_depth = 3, min_samples_leaf = 8,\n",
    "                                   max_leaf_nodes =  10).fit(X_train, y_train)\n",
    "\n",
    "print('Accuracy of Decision Tree Classifier on training set:',tree_mod1.score(X_train, y_train))\n",
    "print('Accuracy of Decision Tree Classifier on test set:',format(tree_mod1.score(X_test, y_test)))\n",
    "\n"
   ]
  },
  {
   "cell_type": "code",
   "execution_count": 31,
   "metadata": {},
   "outputs": [
    {
     "name": "stdout",
     "output_type": "stream",
     "text": [
      "Accuracy of Decision Tree Classifier on training set: 0.8543352601156069\n",
      "Accuracy of Decision Tree Classifier on test set: 0.8118279569892473\n"
     ]
    }
   ],
   "source": [
    "tree_mod2 = DecisionTreeClassifier(max_depth = 3, min_samples_leaf = 4,\n",
    "                                   max_leaf_nodes =  4).fit(X_train, y_train)\n",
    "\n",
    "print('Accuracy of Decision Tree Classifier on training set:',tree_mod2.score(X_train, y_train))\n",
    "print('Accuracy of Decision Tree Classifier on test set:',format(tree_mod2.score(X_test, y_test)))\n"
   ]
  },
  {
   "cell_type": "code",
   "execution_count": 32,
   "metadata": {},
   "outputs": [
    {
     "data": {
      "text/plain": [
       "array([0, 0, 1, 0, 0, 0, 0, 1, 0, 0, 0, 0, 0, 0, 0, 0, 0, 0, 0, 0, 0, 0,\n",
       "       0, 0, 0, 0, 0, 0, 0, 0, 0, 0, 0, 0, 0, 0, 0, 0, 1, 0, 0, 0, 0, 0,\n",
       "       0, 0, 0, 0, 0, 0, 0, 0, 0, 0, 0, 0, 0, 0, 0, 0, 0, 0, 0, 0, 0, 0,\n",
       "       0, 1, 0, 0, 0, 0, 0, 0, 0, 0, 0, 1, 0, 0, 0, 0, 0, 0, 0, 0, 0, 0,\n",
       "       0, 0, 0, 0, 0, 0, 0, 0, 0, 0, 0, 0, 0, 0, 0, 1, 0, 1, 0, 0, 1, 0,\n",
       "       0, 0, 0, 0, 0, 0, 0, 0, 0, 0, 0, 0, 0, 0, 0, 1, 0, 0, 0, 0, 0, 0,\n",
       "       0, 0, 0, 0, 0, 0, 1, 0, 0, 0, 0, 0, 0, 0, 0, 0, 0, 0, 0, 0, 0, 0,\n",
       "       0, 0, 0, 0, 0, 0, 0, 0, 0, 0, 0, 0, 0, 0, 0, 0, 0, 0, 0, 0, 0, 0,\n",
       "       0, 0, 0, 0, 0, 0, 0, 0, 0, 0, 0, 0, 0, 0, 0, 1, 0, 0, 0, 0, 0, 1,\n",
       "       0, 0, 0, 0, 0, 0, 0, 0, 0, 0, 0, 0, 0, 0, 0, 0, 0, 0, 0, 0, 0, 0,\n",
       "       0, 0, 0, 0, 0, 0, 0, 1, 0, 0, 0, 0, 0, 0, 0, 0, 0, 0, 0, 0, 0, 0,\n",
       "       0, 0, 0, 1, 0, 0, 0, 0, 0, 0, 0, 0, 0, 0, 0, 0, 0, 0, 0, 0, 0, 0,\n",
       "       0, 0, 0, 0, 0, 0, 0, 0, 0, 0, 0, 0, 0, 1, 0, 0, 0, 0, 0, 0, 0, 0,\n",
       "       0, 0, 0, 0, 0, 0, 0, 0, 1, 0, 0, 0, 0, 0, 0, 0, 0, 0, 0, 0, 0, 0,\n",
       "       1, 0, 0, 0, 0, 0, 0, 0, 0, 0, 0, 0, 0, 0, 0, 0, 0, 0, 0, 0, 0, 0,\n",
       "       0, 0, 0, 0, 0, 0, 0, 0, 0, 0, 0, 0, 0, 0, 0, 0, 0, 0, 0, 0, 0, 0,\n",
       "       0, 0, 0, 0, 0, 0, 0, 0, 0, 0, 0, 0, 0, 0, 0, 0, 0, 0, 0, 0],\n",
       "      dtype=int64)"
      ]
     },
     "execution_count": 32,
     "metadata": {},
     "output_type": "execute_result"
    }
   ],
   "source": [
    "tree_mod2.predict(X_test)"
   ]
  },
  {
   "cell_type": "markdown",
   "metadata": {},
   "source": [
    "# Bagging"
   ]
  },
  {
   "cell_type": "code",
   "execution_count": null,
   "metadata": {},
   "outputs": [],
   "source": [
    "# random forest\n",
    "\n",
    "# n_estimators = no of trees\n",
    "\n",
    "# max_features : int, float, string, None, optional (default=\"auto\")\n",
    "\n",
    "#    The number of features to consider when looking for the best split:\n",
    "\n",
    "#    - If int, then consider `max_features` features at each split.\n",
    "#    - If float, then `max_features` is a percentage and\n",
    "#      `int(max_features * n_features)` features are considered at each split.\n",
    "#    - If \"auto\", then `max_features=sqrt(n_features)`.\n",
    "#    - If \"sqrt\", then `max_features=sqrt(n_features)` (same as \"auto\").\n",
    "#    - If \"log2\", then `max_features=log2(n_features)`.\n",
    "#    - If None, then `max_features=n_features\n",
    "# oob_score: Whether to use out-of-bag samples to estimate the generalization accuracy.\n",
    "\n",
    "\n",
    "# For Bagging: max_features = None (= n_features)\n"
   ]
  },
  {
   "cell_type": "code",
   "execution_count": 33,
   "metadata": {},
   "outputs": [],
   "source": [
    "from sklearn.ensemble import RandomForestClassifier"
   ]
  },
  {
   "cell_type": "code",
   "execution_count": 34,
   "metadata": {},
   "outputs": [
    {
     "name": "stdout",
     "output_type": "stream",
     "text": [
      "Accuracy of Bagging classifier on training set: 0.8751445086705202\n",
      "Accuracy of Bagging classifier on test set: 0.8252688172043011\n",
      "Accuracy of OOB classifier on test set:  0.8485549132947977\n"
     ]
    }
   ],
   "source": [
    "\n",
    "\n",
    "bag_mod = RandomForestClassifier(bootstrap = True, n_estimators = 50,\n",
    "                                random_state = 0,\n",
    "                                max_features = None, min_samples_leaf = 5,\n",
    "                                max_depth = 4, oob_score = True).fit(X_train, y_train)\n",
    "\n",
    "print('Accuracy of Bagging classifier on training set:',bag_mod.score(X_train, y_train))\n",
    "print('Accuracy of Bagging classifier on test set:',bag_mod.score(X_test, y_test))\n",
    "print('Accuracy of OOB classifier on test set: ',bag_mod.oob_score_)\n"
   ]
  },
  {
   "cell_type": "code",
   "execution_count": 35,
   "metadata": {},
   "outputs": [
    {
     "name": "stdout",
     "output_type": "stream",
     "text": [
      "Accuracy of Bagging classifier on training set: 0.8635838150289017\n",
      "Accuracy of Bagging classifier on test set: 0.8118279569892473\n",
      "Accuracy of OOB classifier on test set:  0.8497109826589595\n"
     ]
    }
   ],
   "source": [
    "bag_mod1 = RandomForestClassifier(bootstrap = True, n_estimators = 50,\n",
    "                                random_state = 0,\n",
    "                                max_features = None, min_samples_leaf = 4,\n",
    "                                max_depth = 3, oob_score = True).fit(X_train, y_train)\n",
    "\n",
    "print('Accuracy of Bagging classifier on training set:',bag_mod1.score(X_train, y_train))\n",
    "print('Accuracy of Bagging classifier on test set:',bag_mod1.score(X_test, y_test))\n",
    "print('Accuracy of OOB classifier on test set: ',bag_mod1.oob_score_)\n"
   ]
  },
  {
   "cell_type": "markdown",
   "metadata": {},
   "source": [
    "# Random Forest"
   ]
  },
  {
   "cell_type": "code",
   "execution_count": 36,
   "metadata": {},
   "outputs": [
    {
     "name": "stdout",
     "output_type": "stream",
     "text": [
      "Accuracy of RF classifier on training set: 0.8775\n",
      "Accuracy of RF classifier on test set: 0.8145\n",
      "Accuracy of RF OOB classifier on test set: 0.8405\n"
     ]
    }
   ],
   "source": [
    "rf_mod = RandomForestClassifier(bootstrap = True, n_estimators = 50,\n",
    "                                random_state = 0,\n",
    "                                max_features = \"sqrt\", min_samples_leaf = 5,\n",
    "                                max_depth = 7, oob_score = True).fit(X_train, y_train)\n",
    "\n",
    "print('Accuracy of RF classifier on training set: {:.4f}'\n",
    "        .format(rf_mod.score(X_train, y_train)))\n",
    "print('Accuracy of RF classifier on test set: {:.4f}'\n",
    "        .format(rf_mod.score(X_test, y_test)))\n",
    "print('Accuracy of RF OOB classifier on test set: {:.4f}'\n",
    "        .format(rf_mod.oob_score_))\n"
   ]
  },
  {
   "cell_type": "markdown",
   "metadata": {},
   "source": [
    "# Gradient boosted decision trees"
   ]
  },
  {
   "cell_type": "code",
   "execution_count": 37,
   "metadata": {},
   "outputs": [],
   "source": [
    "from sklearn.ensemble import GradientBoostingClassifier"
   ]
  },
  {
   "cell_type": "code",
   "execution_count": 38,
   "metadata": {},
   "outputs": [
    {
     "name": "stdout",
     "output_type": "stream",
     "text": [
      "Accuracy of Boosting classifier on training set: 0.8578\n",
      "Accuracy of Boosting classifier on test set: 0.8145\n"
     ]
    }
   ],
   "source": [
    "boost_mod = GradientBoostingClassifier(n_estimators = 220, max_depth = 2,\n",
    "                                      learning_rate=0.01,\n",
    "                                      random_state = 0).fit(X_train, y_train)\n",
    "print('Accuracy of Boosting classifier on training set: {:.4f}'\n",
    "        .format(boost_mod.score(X_train, y_train)))\n",
    "print('Accuracy of Boosting classifier on test set: {:.4f}'\n",
    "        .format(boost_mod.score(X_test, y_test)))"
   ]
  }
 ],
 "metadata": {
  "kernelspec": {
   "display_name": "Python 3",
   "language": "python",
   "name": "python3"
  },
  "language_info": {
   "codemirror_mode": {
    "name": "ipython",
    "version": 3
   },
   "file_extension": ".py",
   "mimetype": "text/x-python",
   "name": "python",
   "nbconvert_exporter": "python",
   "pygments_lexer": "ipython3",
   "version": "3.8.3"
  }
 },
 "nbformat": 4,
 "nbformat_minor": 2
}
